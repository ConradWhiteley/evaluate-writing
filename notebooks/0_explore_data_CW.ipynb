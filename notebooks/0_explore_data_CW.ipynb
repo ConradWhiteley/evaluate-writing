{
 "cells": [
  {
   "cell_type": "code",
   "execution_count": 1,
   "id": "942450f7-3a50-4737-8c84-782cede7f72b",
   "metadata": {},
   "outputs": [
    {
     "name": "stderr",
     "output_type": "stream",
     "text": [
      "C:\\Users\\conra\\miniconda3\\envs\\evaluate-writing\\lib\\site-packages\\scipy\\__init__.py:146: UserWarning: A NumPy version >=1.16.5 and <1.23.0 is required for this version of SciPy (detected version 1.23.1\n",
      "  warnings.warn(f\"A NumPy version >={np_minversion} and <{np_maxversion}\"\n"
     ]
    }
   ],
   "source": [
    "import pandas as pd\n",
    "from tqdm.notebook import tqdm\n",
    "import seaborn as sns"
   ]
  },
  {
   "cell_type": "code",
   "execution_count": 2,
   "id": "10966dc0-29dd-4440-a407-df3a3d52a673",
   "metadata": {},
   "outputs": [],
   "source": [
    "train_data = pd.read_csv('../data/raw/train.csv')\n",
    "test_data = pd.read_csv('../data/raw/test.csv')"
   ]
  },
  {
   "cell_type": "code",
   "execution_count": 3,
   "id": "8cfb72da-3fe5-4e67-aed6-207a84e7e7f4",
   "metadata": {},
   "outputs": [
    {
     "name": "stdout",
     "output_type": "stream",
     "text": [
      "(36765, 5) (10, 4)\n"
     ]
    }
   ],
   "source": [
    "print(train_data.shape, test_data.shape)"
   ]
  },
  {
   "cell_type": "code",
   "execution_count": 4,
   "id": "2a36257e-4015-4220-bd8d-ae9a68e001b6",
   "metadata": {},
   "outputs": [
    {
     "name": "stdout",
     "output_type": "stream",
     "text": [
      "Index(['discourse_id', 'essay_id', 'discourse_text', 'discourse_type',\n",
      "       'discourse_effectiveness'],\n",
      "      dtype='object')\n",
      "Index(['discourse_id', 'essay_id', 'discourse_text', 'discourse_type'], dtype='object')\n"
     ]
    }
   ],
   "source": [
    "print(train_data.columns)\n",
    "print(test_data.columns)"
   ]
  },
  {
   "cell_type": "code",
   "execution_count": 5,
   "id": "b3e16b8f-5e73-412b-b9f6-21298bf6010c",
   "metadata": {},
   "outputs": [
    {
     "name": "stdout",
     "output_type": "stream",
     "text": [
      "<class 'pandas.core.frame.DataFrame'>\n",
      "RangeIndex: 36765 entries, 0 to 36764\n",
      "Data columns (total 5 columns):\n",
      " #   Column                   Non-Null Count  Dtype \n",
      "---  ------                   --------------  ----- \n",
      " 0   discourse_id             36765 non-null  object\n",
      " 1   essay_id                 36765 non-null  object\n",
      " 2   discourse_text           36765 non-null  object\n",
      " 3   discourse_type           36765 non-null  object\n",
      " 4   discourse_effectiveness  36765 non-null  object\n",
      "dtypes: object(5)\n",
      "memory usage: 1.4+ MB\n"
     ]
    }
   ],
   "source": [
    "train_data.info()"
   ]
  },
  {
   "cell_type": "code",
   "execution_count": 6,
   "id": "977936e7-d84a-415c-ad58-cdd421a03018",
   "metadata": {},
   "outputs": [
    {
     "data": {
      "text/plain": [
       "Adequate       20977\n",
       "Effective       9326\n",
       "Ineffective     6462\n",
       "Name: discourse_effectiveness, dtype: int64"
      ]
     },
     "execution_count": 6,
     "metadata": {},
     "output_type": "execute_result"
    }
   ],
   "source": [
    "train_data['discourse_effectiveness'].value_counts()"
   ]
  },
  {
   "cell_type": "code",
   "execution_count": 7,
   "id": "d7b00c82-66be-4b23-aa71-2902bd32b1b4",
   "metadata": {},
   "outputs": [
    {
     "data": {
      "text/plain": [
       "discourse_type        discourse_effectiveness\n",
       "Claim                 Adequate                   7097\n",
       "                      Effective                  3405\n",
       "                      Ineffective                1475\n",
       "Concluding Statement  Adequate                   1945\n",
       "                      Effective                   825\n",
       "                      Ineffective                 581\n",
       "Counterclaim          Adequate                   1150\n",
       "                      Effective                   418\n",
       "                      Ineffective                 205\n",
       "Evidence              Adequate                   6064\n",
       "                      Ineffective                3156\n",
       "                      Effective                  2885\n",
       "Lead                  Adequate                   1244\n",
       "                      Effective                   683\n",
       "                      Ineffective                 364\n",
       "Position              Adequate                   2784\n",
       "                      Effective                   770\n",
       "                      Ineffective                 470\n",
       "Rebuttal              Adequate                    693\n",
       "                      Effective                   340\n",
       "                      Ineffective                 211\n",
       "dtype: int64"
      ]
     },
     "execution_count": 7,
     "metadata": {},
     "output_type": "execute_result"
    }
   ],
   "source": [
    "train_data.groupby('discourse_type')[['discourse_effectiveness', 'discourse_type']].value_counts()"
   ]
  },
  {
   "cell_type": "code",
   "execution_count": 8,
   "id": "d80ab380-e7a5-4909-ae2b-e62a70b7dee1",
   "metadata": {},
   "outputs": [
    {
     "data": {
      "text/plain": [
       "discourse_type                   \n",
       "Claim                 Adequate       59.26\n",
       "                      Effective      28.43\n",
       "                      Ineffective    12.32\n",
       "Concluding Statement  Adequate       58.04\n",
       "                      Effective      24.62\n",
       "                      Ineffective    17.34\n",
       "Counterclaim          Adequate       64.86\n",
       "                      Effective      23.58\n",
       "                      Ineffective    11.56\n",
       "Evidence              Adequate       50.10\n",
       "                      Ineffective    26.07\n",
       "                      Effective      23.83\n",
       "Lead                  Adequate       54.30\n",
       "                      Effective      29.81\n",
       "                      Ineffective    15.89\n",
       "Position              Adequate       69.18\n",
       "                      Effective      19.14\n",
       "                      Ineffective    11.68\n",
       "Rebuttal              Adequate       55.71\n",
       "                      Effective      27.33\n",
       "                      Ineffective    16.96\n",
       "Name: discourse_effectiveness, dtype: float64"
      ]
     },
     "execution_count": 8,
     "metadata": {},
     "output_type": "execute_result"
    }
   ],
   "source": [
    "(train_data.groupby('discourse_type').apply(lambda x: x['discourse_effectiveness'].value_counts() / len(x)) * 100).round(2)"
   ]
  },
  {
   "cell_type": "code",
   "execution_count": null,
   "id": "e140c4f5-4f5c-4b96-9fc7-af540c53ad7d",
   "metadata": {},
   "outputs": [],
   "source": []
  }
 ],
 "metadata": {
  "kernelspec": {
   "display_name": "Python 3 (ipykernel)",
   "language": "python",
   "name": "python3"
  },
  "language_info": {
   "codemirror_mode": {
    "name": "ipython",
    "version": 3
   },
   "file_extension": ".py",
   "mimetype": "text/x-python",
   "name": "python",
   "nbconvert_exporter": "python",
   "pygments_lexer": "ipython3",
   "version": "3.9.12"
  }
 },
 "nbformat": 4,
 "nbformat_minor": 5
}
